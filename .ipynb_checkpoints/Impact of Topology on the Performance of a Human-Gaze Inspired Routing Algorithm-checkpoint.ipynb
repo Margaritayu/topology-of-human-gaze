{
 "cells": [
  {
   "cell_type": "code",
   "execution_count": null,
   "id": "97dc79ec",
   "metadata": {},
   "outputs": [],
   "source": [
    "import networkx as nx\n",
    "import time\n",
    "import resource "
   ]
  },
  {
   "cell_type": "code",
   "execution_count": null,
   "id": "58bdc575",
   "metadata": {
    "scrolled": true
   },
   "outputs": [],
   "source": [
    "G_list = []\n",
    "pos_G_list = []\n",
    "\n",
    "for i in range(15):\n",
    "    for j in range(100):\n",
    "        G=nx.barabasi_albert_graph(30,i+2)\n",
    "        G_list.append(G)\n",
    "        pos_G = nx.spring_layout(G)\n",
    "        pos_G_list.append(pos_G)\n",
    "nx.draw(G, pos=pos_G, with_labels=False, node_size=30)"
   ]
  },
  {
   "cell_type": "code",
   "execution_count": null,
   "id": "1022cccf",
   "metadata": {},
   "outputs": [],
   "source": [
    "len(G_list)"
   ]
  },
  {
   "cell_type": "code",
   "execution_count": null,
   "id": "6b100431",
   "metadata": {},
   "outputs": [],
   "source": [
    "import math\n",
    "\n",
    "def dot(v,w):\n",
    "    x,y = v\n",
    "    X,Y = w\n",
    "    return x*X + y*Y\n",
    "\n",
    "def length(v):\n",
    "    x,y = v\n",
    "    return math.sqrt(x*x + y*y)\n",
    "\n",
    "def vector(b,e):\n",
    "    x,y = b\n",
    "    X,Y = e\n",
    "    return (X-x, Y-y)\n",
    "\n",
    "def unit(v):\n",
    "    x,y = v\n",
    "    mag = length(v)\n",
    "    return (x/mag, y/mag)\n",
    "\n",
    "def distance(p0,p1):\n",
    "    return length(vector(p0,p1))\n",
    "\n",
    "def scale(v,sc):\n",
    "    x,y = v\n",
    "    return (x * sc, y * sc)\n",
    "\n",
    "def add(v,w):\n",
    "    x,y = v\n",
    "    X,Y = w\n",
    "    return (x+X, y+Y)\n",
    "\n",
    "\n",
    "def pnt2line(pnt, start, end):   #node position as input\n",
    "    line_vec = vector(start, end)\n",
    "    pnt_vec = vector(start, pnt)\n",
    "    line_len = length(line_vec)\n",
    "    line_unitvec = unit(line_vec)\n",
    "    pnt_vec_scaled = scale(pnt_vec, 1.0/line_len)\n",
    "    t = dot(line_unitvec, pnt_vec_scaled)    \n",
    "    if t < 0.0:\n",
    "        t = 0.0\n",
    "    elif t > 1.0:\n",
    "        t = 1.0\n",
    "    nearest = scale(line_vec, t)\n",
    "    dist = distance(nearest, pnt_vec)\n",
    "    nearest = add(nearest, start)\n",
    "    return dist\n",
    "\n",
    "\n",
    "def dist_euclidean(p1, p2, pos):  #node name as input and pos to specify name of position variable for this graph\n",
    "    x1, y1 = pos[p1]\n",
    "    x2, y2 = pos[p2]\n",
    "    return ((x2-x1)**2+(y2-y1)**2)**(1/2)"
   ]
  },
  {
   "cell_type": "code",
   "execution_count": null,
   "id": "d368a0ac",
   "metadata": {},
   "outputs": [],
   "source": [
    "\n",
    "def dist_euclidean_G1(p1, p2):\n",
    "    x1, y1 = pos_G1[p1]\n",
    "    x2, y2 = pos_G1[p2]\n",
    "    return ((x2-x1)**2+(y2-y1)**2)**(1/2)"
   ]
  },
  {
   "cell_type": "code",
   "execution_count": null,
   "id": "54b3a23f",
   "metadata": {},
   "outputs": [],
   "source": [
    "def Human_gaze_algorithm(Graph, start_node, end_node, pos):\n",
    "    current_node = start_node\n",
    "    visited_nodes = [start_node]\n",
    "    dead_nodes = []\n",
    "    while current_node != end_node:\n",
    "        neighbors = list(Graph.neighbors(current_node))\n",
    "        for i in visited_nodes:\n",
    "            if i in neighbors:\n",
    "                neighbors.remove(i)\n",
    "        for i in dead_nodes:\n",
    "            if i in neighbors:\n",
    "                neighbors.remove(i)\n",
    "        \n",
    "        \n",
    "        if len(neighbors) == 0:\n",
    "            visited_nodes.remove(current_node)\n",
    "            dead_nodes.append(current_node)\n",
    "            \n",
    "            while len(neighbors) == 0:                                                  \n",
    "                current_node = visited_nodes[-1]\n",
    "                neighbors = list(Graph.neighbors(current_node))\n",
    "                # is this still necessary if we have dead_nodes conditional\n",
    "                for i in visited_nodes:\n",
    "                    if i in neighbors:\n",
    "                        neighbors.remove(i)\n",
    "                for i in dead_nodes:\n",
    "                    if i in neighbors:\n",
    "                        neighbors.remove(i)\n",
    "                visited_nodes.remove(current_node) \n",
    "                \n",
    "            visited_nodes.append(current_node) \n",
    "            \n",
    "        options = {} \n",
    "        \n",
    "        for i in neighbors:\n",
    "                options[i] = pnt2line(pos[i], pos[start_node], pos[end_node])\n",
    "        current_node = min(options, key=options.get)\n",
    "        visited_nodes.append(current_node)  \n",
    "               \n",
    "    return visited_nodes\n",
    "\n",
    "\n",
    "def Human_gaze_algorithm_2(Graph, start_node, end_node, pos):\n",
    "    current_node = start_node\n",
    "    visited_nodes = [start_node]\n",
    "    dead_nodes = [] # a node might be added multiple times to this know maybe as it was before might not be a problem\n",
    "    while current_node != end_node:\n",
    "        neighbors = list(Graph.neighbors(current_node))\n",
    "        for i in visited_nodes:\n",
    "            if i in neighbors:\n",
    "                neighbors.remove(i)\n",
    "        for i in dead_nodes:\n",
    "            if i in neighbors:\n",
    "                neighbors.remove(i)\n",
    "        \n",
    "        \n",
    "        if len(neighbors) == 0:\n",
    "            visited_nodes.remove(current_node)\n",
    "            dead_nodes.append(current_node)\n",
    "            \n",
    "            while len(neighbors) == 0:                                                  \n",
    "                current_node = visited_nodes[-1]\n",
    "                neighbors = list(Graph.neighbors(current_node))\n",
    "                # is this still necessary if we have dead_nodes conditional\n",
    "                for i in visited_nodes:\n",
    "                    if i in neighbors:\n",
    "                        neighbors.remove(i)\n",
    "                for i in dead_nodes:\n",
    "                    if i in neighbors:\n",
    "                        neighbors.remove(i)\n",
    "                visited_nodes.remove(current_node) # instead of adding it again to visited nodes we want to take it away \n",
    "                \n",
    "            visited_nodes.append(current_node) \n",
    "            \n",
    "        options = {} \n",
    "        \n",
    "        for i in neighbors:\n",
    "                options[i] = pnt2line(pos[i], pos[current_node], pos[end_node])\n",
    "        current_node = min(options, key=options.get)\n",
    "        visited_nodes.append(current_node)  \n",
    "               \n",
    "    return visited_nodes\n",
    "\n",
    "\n",
    "def Human_gaze_algorithm_3(Graph, start_node, end_node, pos):\n",
    "    current_node = start_node\n",
    "    visited_nodes = [start_node]\n",
    "    dead_nodes = [] # a node might be added multiple times to this know maybe as it was before might not be a problem\n",
    "    while current_node != end_node:\n",
    "        neighbors = list(Graph.neighbors(current_node))\n",
    "        for i in visited_nodes:\n",
    "            if i in neighbors:\n",
    "                neighbors.remove(i)\n",
    "        for i in dead_nodes:\n",
    "            if i in neighbors:\n",
    "                neighbors.remove(i)\n",
    "        \n",
    "        \n",
    "        if len(neighbors) == 0:\n",
    "            visited_nodes.remove(current_node)\n",
    "            dead_nodes.append(current_node)\n",
    "            \n",
    "            while len(neighbors) == 0:                                                  \n",
    "                current_node = visited_nodes[-1]\n",
    "                neighbors = list(Graph.neighbors(current_node))\n",
    "                # is this still necessary if we have dead_nodes conditional\n",
    "                for i in visited_nodes:\n",
    "                    if i in neighbors:\n",
    "                        neighbors.remove(i)\n",
    "                for i in dead_nodes:\n",
    "                    if i in neighbors:\n",
    "                        neighbors.remove(i)\n",
    "                visited_nodes.remove(current_node) # instead of adding it again to visited nodes we want to take it away \n",
    "                \n",
    "            visited_nodes.append(current_node) \n",
    "            \n",
    "        options = {} \n",
    "        \n",
    "        for i in neighbors:\n",
    "                options[i] = pnt2line(pos[i], pos[current_node], pos[end_node])\n",
    "                options[i] += dist_euclidean(i, end_node, pos)\n",
    "        current_node = min(options, key=options.get)\n",
    "        visited_nodes.append(current_node)  \n",
    "               \n",
    "    return visited_nodes"
   ]
  },
  {
   "cell_type": "code",
   "execution_count": null,
   "id": "7cb980f5",
   "metadata": {},
   "outputs": [],
   "source": [
    "# We only want the paths where HG is longer \n",
    "def compare_path(L1, L2): #inputs are the list of list(paths) for all node pairs for dijkstra and HG, same size lists\n",
    "    different_path = []\n",
    "    n = 0\n",
    "    if L1 == L2:\n",
    "        return \"Equal\"\n",
    "    else:\n",
    "        for i in range(len(L2)): #L1 and L2 should be the same length\n",
    "            if len(L1[i]) < len(L2[i]):\n",
    "                n += 1\n",
    "                different_path.append([L1[i], L2[i]])\n",
    "        #return [different_path, n, len(L1), n/len(L1)*100] \n",
    "        return different_path\n",
    "    \n",
    "def HG_error(L1, L2):\n",
    "    n = 0\n",
    "    if L1 == L2:\n",
    "        return \"Equal\"\n",
    "    else:\n",
    "        for i in range(len(L2)): #L1 and L2 should be the same length\n",
    "            if len(L1[i]) < len(L2[i]):\n",
    "                n += 1\n",
    "        #return [n, len(L1), n/len(L1)*100]\n",
    "        return n/len(L1)*100\n",
    "    \n",
    "    \n",
    "    \n",
    "def compare_runtime(Graph, Graph_set_DG, Graph_set_HG, algorithm, pos): #always compare HG versions to dijkstra since we don't specify the alg. in the arguments\n",
    "   \n",
    "    time_start_DG = time.perf_counter()\n",
    "    for i in list(Graph.nodes):\n",
    "        for j in list(Graph.nodes):\n",
    "            Graph_set_DG.append(nx.dijkstra_path(Graph, i, j))\n",
    "    time_elapsed_DG = (time.perf_counter() - time_start_DG)\n",
    "    memMb_DG=resource.getrusage(resource.RUSAGE_SELF).ru_maxrss/1024.0/1024.0\n",
    "    \n",
    "    time_start_HG = time.perf_counter()\n",
    "    for i in list(Graph.nodes):\n",
    "        for j in list(Graph.nodes):\n",
    "            Graph_set_HG.append(algorithm(Graph, i, j, pos))\n",
    "    time_elapsed_HG = (time.perf_counter() - time_start_HG)\n",
    "    memMb_HG=resource.getrusage(resource.RUSAGE_SELF).ru_maxrss/1024.0/1024.0\n",
    "    \n",
    "    \n",
    "\n",
    "    \n",
    "    return print ( \"%5.1f secs %5.1f MByte\" % (time_elapsed_HG,memMb_HG), \"%5.1f secs %5.1f MByte\" % (time_elapsed_DG,memMb_DG))"
   ]
  },
  {
   "cell_type": "code",
   "execution_count": null,
   "id": "af70a5c8",
   "metadata": {},
   "outputs": [],
   "source": [
    "# Create 19 empty list for each graph for each algorithm (Dijkstra, Version 1, 2 and 3)\n",
    "for k in range(1,1401):\n",
    "    exec(f'DG_{k} = []')  #The variables will be DG_1, DG_2 etc..\n",
    "    \n",
    "for k in range(1,1401): \n",
    "    exec(f'HG1_{k} = []')    \n",
    "    \n",
    "for k in range(1,1401):\n",
    "    exec(f'HG2_{k} = []') \n",
    "\n",
    "for k in range(1,1401):\n",
    "    exec(f'HG3_{k} = []')    \n",
    "    \n",
    "for k in range(1,2401):\n",
    "    exec(f'A_{k} = []') "
   ]
  },
  {
   "cell_type": "code",
   "execution_count": null,
   "id": "afd3d51c",
   "metadata": {},
   "outputs": [],
   "source": [
    "# Writing them all out\n",
    "\n",
    "# As all these list are global variables running this cell multiple times willcontinue to add all the node pairs\n",
    "# Only run once\n",
    "\n",
    "DG_list = []\n",
    "\n",
    "for k in range(1,1401):\n",
    "    exec(f'DG_{k} = []')\n",
    "    exec(f'DG_list.append(DG_{k})')\n",
    "\n",
    "for k in range(len(G_list)):\n",
    "    for i in list(G_list[k].nodes):\n",
    "        for j in list(G_list[k].nodes):\n",
    "            DG_list[k].append(nx.dijkstra_path(G_list[k], i, j))\n",
    "            \n",
    "HG1_list = []\n",
    "\n",
    "for k in range(1,1401):\n",
    "    exec(f'HG1_{k} = []')\n",
    "    exec(f'HG1_list.append(HG1_{k})')\n",
    "    \n",
    "for k in range(len(G_list)):\n",
    "    for i in list(G_list[k].nodes):\n",
    "        for j in list(G_list[k].nodes):\n",
    "            HG1_list[k].append(Human_gaze_algorithm(G_list[k],i,j,pos_G_list[k]))\n",
    "            \n",
    "\n",
    "HG2_list = []\n",
    "\n",
    "for k in range(1,1401):\n",
    "    exec(f'HG2_{k} = []')\n",
    "    exec(f'HG2_list.append(HG2_{k})')\n",
    "    \n",
    "for k in range(len(G_list)):\n",
    "    for i in list(G_list[k].nodes):\n",
    "        for j in list(G_list[k].nodes):\n",
    "            HG2_list[k].append(Human_gaze_algorithm_2(G_list[k],i,j,pos_G_list[k]))\n",
    "            \n",
    "HG3_list = []\n",
    "\n",
    "for k in range(1,1401):\n",
    "    exec(f'HG3_{k} = []')\n",
    "    exec(f'HG3_list.append(HG3_{k})')\n",
    "    \n",
    "for k in range(len(G_list)):\n",
    "    for i in list(G_list[k].nodes):\n",
    "        for j in list(G_list[k].nodes):\n",
    "            HG3_list[k].append(Human_gaze_algorithm_3(G_list[k],i,j,pos_G_list[k]))\n",
    "            \n",
    "            "
   ]
  },
  {
   "cell_type": "code",
   "execution_count": null,
   "id": "c86e1462",
   "metadata": {},
   "outputs": [],
   "source": [
    "for i in range(len(G_list)):\n",
    "    print(compare_path(DG_list[i], HG1_list[i]))"
   ]
  },
  {
   "cell_type": "code",
   "execution_count": null,
   "id": "52a78e6b",
   "metadata": {},
   "outputs": [],
   "source": [
    "for i in range(len(G_list)):\n",
    "    print(compare_path(DG_list[i], HG2_list[i]))"
   ]
  },
  {
   "cell_type": "code",
   "execution_count": null,
   "id": "48ec0c72",
   "metadata": {},
   "outputs": [],
   "source": [
    "for i in range(len(G_list)):\n",
    "    print(compare_path(DG_list[i], HG3_list[i]))"
   ]
  },
  {
   "cell_type": "code",
   "execution_count": null,
   "id": "5a3594bd",
   "metadata": {},
   "outputs": [],
   "source": [
    "for i in range(len(G_list)):\n",
    "    print(HG_error(DG_list[i], HG1_list[i]))"
   ]
  },
  {
   "cell_type": "code",
   "execution_count": null,
   "id": "d83f6cf1",
   "metadata": {},
   "outputs": [],
   "source": [
    "for i in range(len(G_list)):\n",
    "    print(HG_error(DG_list[i], HG3_list[i]))"
   ]
  },
  {
   "cell_type": "code",
   "execution_count": null,
   "id": "e7997fb7",
   "metadata": {},
   "outputs": [],
   "source": []
  },
  {
   "cell_type": "code",
   "execution_count": null,
   "id": "a7495fb2",
   "metadata": {},
   "outputs": [],
   "source": [
    "\n",
    "for i in range(len(G_list)):\n",
    "    print(compare_runtime(G_list[i], DG_list[i], HG1_list[i], Human_gaze_algorithm, pos_G_list[i]))"
   ]
  },
  {
   "cell_type": "code",
   "execution_count": null,
   "id": "0b114311",
   "metadata": {},
   "outputs": [],
   "source": [
    "for i in range(len(G_list)):\n",
    "    print(compare_runtime(G_list[i], DG_list[i], HG2_list[i], Human_gaze_algorithm_2, pos_G_list[i]))"
   ]
  },
  {
   "cell_type": "code",
   "execution_count": null,
   "id": "2c9c5932",
   "metadata": {},
   "outputs": [],
   "source": [
    "for i in range(len(G_list)):\n",
    "    print(compare_runtime(G_list[i], DG_list[i], HG3_list[i], Human_gaze_algorithm_3, pos_G_list[i]))"
   ]
  },
  {
   "cell_type": "code",
   "execution_count": null,
   "id": "6772f5fb",
   "metadata": {},
   "outputs": [],
   "source": [
    "# Network Connectivity: Number of links divided by N(N-1)\n",
    "# Show as Network Connectivity increase: What happens to the legnth of the shortest path, the error rate in comparison\n",
    "# to dijkstra, the run time\n",
    "\n",
    "# When you get the reuslts for edge creation probability 0.5 and above get some data for the lower probabilites"
   ]
  },
  {
   "cell_type": "code",
   "execution_count": null,
   "id": "9d62a0f9",
   "metadata": {},
   "outputs": [],
   "source": [
    "def network_connectivity(Graph):\n",
    "    edges = list(Graph.edges())\n",
    "    nodes = list(Graph.nodes())\n",
    "    return (2*len(edges))/(len(nodes)*(len(nodes)-1)) # in my path I included nodes to themselves so should it be N*N ?"
   ]
  },
  {
   "cell_type": "code",
   "execution_count": null,
   "id": "7de2976c",
   "metadata": {},
   "outputs": [],
   "source": [
    "for i in G_list:\n",
    "    print(network_connectivity(i))\n",
    "    \n",
    "# should I be looking for a wider range of network connectivity ?"
   ]
  },
  {
   "cell_type": "code",
   "execution_count": null,
   "id": "1ecff586",
   "metadata": {},
   "outputs": [],
   "source": [
    "import matplotlib.pyplot as plt"
   ]
  },
  {
   "cell_type": "code",
   "execution_count": null,
   "id": "8c080d26",
   "metadata": {},
   "outputs": [],
   "source": [
    "def average_len(lst):\n",
    "    lengths = [len(i) for i in lst]\n",
    "    return 0 if len(lengths) == 0 else (float(sum(lengths)) / len(lengths))"
   ]
  },
  {
   "cell_type": "code",
   "execution_count": null,
   "id": "adc4e08c",
   "metadata": {},
   "outputs": [],
   "source": [
    "for i in HG1_list:\n",
    "    print(average_len(i))"
   ]
  },
  {
   "cell_type": "code",
   "execution_count": null,
   "id": "e0159c3d",
   "metadata": {},
   "outputs": [],
   "source": [
    "for i in HG2_list:\n",
    "    print(average_len(i))"
   ]
  },
  {
   "cell_type": "code",
   "execution_count": null,
   "id": "39768c5e",
   "metadata": {},
   "outputs": [],
   "source": [
    "for i in HG3_list:\n",
    "    print(average_len(i))"
   ]
  },
  {
   "cell_type": "code",
   "execution_count": null,
   "id": "2ab736bb",
   "metadata": {},
   "outputs": [],
   "source": [
    "for i in DG_list:\n",
    "    print(average_len(i))"
   ]
  },
  {
   "cell_type": "code",
   "execution_count": null,
   "id": "e790ca86",
   "metadata": {},
   "outputs": [],
   "source": [
    "# for i in A_list:\n",
    "#     print(average_len(i))"
   ]
  },
  {
   "cell_type": "code",
   "execution_count": null,
   "id": "f93c4b3b",
   "metadata": {},
   "outputs": [],
   "source": [
    "# Plotting average average path lenghts in terms of network connectivity"
   ]
  },
  {
   "cell_type": "code",
   "execution_count": null,
   "id": "7ed978de",
   "metadata": {},
   "outputs": [],
   "source": [
    "# x = [0.2523809523809524,0.2523809523809524,0.26666666666666666,0.29523809523809524,0.36666666666666664,0.3476190476190476,0.3142857142857143,0.3761904761904762,0.3333333333333333,0.40476190476190477,0.40476190476190477,0.41904761904761906,0.4666666666666667,0.45714285714285713,0.4666666666666667]\n",
    "# y_1 = [2.8,2.7822222222222224,2.6755555555555555,2.4444444444444446,2.2844444444444445,2.3451851851851853,2.497777777777778,2.2355555555555555,2.3955555555555557,2.1466666666666665,2.1244444444444444,2.1066666666666665,2.0044444444444443,2.022222222222222,2.0]\n",
    "# plt.plot(x, y_1)\n",
    "# plt.xlabel(\"Network connectivity\")\n",
    "# plt.ylabel(\" Average path length\")"
   ]
  },
  {
   "cell_type": "code",
   "execution_count": null,
   "id": "a8017670",
   "metadata": {},
   "outputs": [],
   "source": [
    "# For network connectivity, take average of the groups of three and make a range centered at that, and then for that\n",
    "# range take the corresponding average of the measured parameter such as path lenght or else\n",
    "# use the double bar on the graph to have dijkstra next to them for comparison"
   ]
  },
  {
   "cell_type": "code",
   "execution_count": 505,
   "id": "4e3c51dd",
   "metadata": {},
   "outputs": [],
   "source": [
    "average_network_connectivity = [0.24761904761904763, 0.34285714285714286, 0.41904761904761906, 0.47619047619047616, 0.5142857142857142, 0.5333333333333333]\n",
    "average_network_connectivity_2 = [0.24761904761904763+0.01, 0.34285714285714286+0.01, 0.41904761904761906+0.01, 0.47619047619047616+0.01, 0.5142857142857142+0.01, 0.5333333333333333+0.01] \n",
    "average_network_connectivity_3 = [0.24761904761904763+0.02, 0.34285714285714286+0.02, 0.41904761904761906+0.02, 0.47619047619047616+0.02, 0.5142857142857142+0.02, 0.5333333333333333+0.02]\n",
    "average_network_connectivity_4 = [0.24761904761904763+0.03, 0.34285714285714286+0.03, 0.41904761904761906+0.03, 0.47619047619047616+0.03, 0.5142857142857142+0.03, 0.5333333333333333+0.03]\n",
    "average_network_connectivity_5 = [0.24761904761904763+0.04, 0.34285714285714286+0.04, 0.41904761904761906+0.04, 0.47619047619047616+0.04, 0.5142857142857142+0.04, 0.5333333333333333+0.04]\n",
    "\n",
    "#average_network_connectivity = [0.20, 0.24, 0.27, 0.33, 0.39, 0.44]\n",
    "#average_network_connectivity_2 = [0.20+0.01, 0.24+0.01, 0.27+0.01, 0.33+0.01, 0.39+0.01, 0.44+0.01]\n",
    "#average_network_connectivity_3 = [0.20+0.02, 0.24+0.02, 0.27+0.02, 0.33+0.02, 0.39+0.02, 0.44+0.02]\n",
    "#average_network_connectivity_4 = [0.20+0.03, 0.24+0.03, 0.27+0.03, 0.33+0.03, 0.39+0.03, 0.44+0.03]\n",
    "#average_network_connectivity_5 = [0.20+0.04, 0.24+0.04, 0.27+0.04, 0.33+0.04, 0.39+0.04, 0.44+0.04]\n",
    "\n",
    "# For the error function no need to have dijkstra next to it as it is using DG as a baseline already\n",
    "average_path_error_HG1 = [33.1, 22.4, 19.6, 10.3, 3.2, 1.1]\n",
    "average_path_error_HG2 = [32.8, 22.3, 19.6, 10.3, 3.2, 1.1]\n",
    "average_path_error_HG3 = [32.8, 22.3, 19.9, 9.7, 3.2, 0.8]\n",
    "#x_average_path_error = [[25.478, 13.033, 8.888, 1.481, 0.74],[25.478, 13.033, 8.888, 1.481, 0.74],[25.777, 13.184, 8.295, 1.340, 1.333]]\n",
    "\n",
    "\n",
    "# For path length we do need dijkstra to compare with\n",
    "average_path_length_HG1 = [3.246105499, 3.115555556, 2.734755556, 2.622666667, 2.543111111, 2.495911111]\n",
    "average_path_length_HG2 = [3.195111111, 2.884266667, 2.717466667, 2.598533333, 2.5264, 2.482044444]\n",
    "average_path_length_HG3 = [3.100444444, 2.822444444, 2.662844444, 2.565155556, 2.502444444, 2.469822222]\n",
    "average_path_length_DG = [2.850577778, 2.621244444, 2.500622222, 2.432, 2.391466667, 2.3712]"
   ]
  },
  {
   "cell_type": "code",
   "execution_count": 310,
   "id": "d425ddb2",
   "metadata": {},
   "outputs": [
    {
     "data": {
      "image/png": "[encoded data removed]",
      "text/plain": [
       "<Figure size 432x288 with 1 Axes>"
      ]
     },
     "metadata": {
      "needs_background": "light"
     },
     "output_type": "display_data"
    }
   ],
   "source": [
    "plt.bar(average_network_connectivity, average_path_length_HG1, width=0.01963,align='edge', tick_label=[0.248, 0.343, 0.419, 0.476, 0.514, 0.533], label=\"Version 1\")\n",
    "plt.bar(average_network_connectivity_2, average_path_length_DG, width=0.01963,align='edge', tick_label=[0.248, 0.343, 0.419, 0.476, 0.514, 0.533], label=\"Dijkstra\")\n",
    "plt.xlabel(\"Network Connectivity\")\n",
    "plt.ylabel(\"Path length\")\n",
    "plt.legend()\n",
    "\n",
    "plt.show()"
   ]
  },
  {
   "cell_type": "code",
   "execution_count": 311,
   "id": "2af91110",
   "metadata": {},
   "outputs": [
    {
     "data": {
      "image/png": "[encoded data removed]",
      "text/plain": [
       "<Figure size 432x288 with 1 Axes>"
      ]
     },
     "metadata": {
      "needs_background": "light"
     },
     "output_type": "display_data"
    }
   ],
   "source": [
    "plt.bar(average_network_connectivity, average_path_length_HG2, width=0.01963,align='edge', tick_label=[0.248, 0.343, 0.419, 0.476, 0.514, 0.533], label=\"Version 2\")\n",
    "plt.bar(average_network_connectivity_2, average_path_length_DG, width=0.01963,align='edge', tick_label=[0.248, 0.343, 0.419, 0.476, 0.514, 0.533], label=\"Dijkstra\")\n",
    "plt.xlabel(\"Network Connectivity\")\n",
    "plt.ylabel(\"Path length\")\n",
    "plt.legend()\n",
    "\n",
    "plt.show()"
   ]
  },
  {
   "cell_type": "code",
   "execution_count": 312,
   "id": "b9f1a725",
   "metadata": {},
   "outputs": [
    {
     "data": {
      "image/png": "[encoded data removed]",
      "text/plain": [
       "<Figure size 432x288 with 1 Axes>"
      ]
     },
     "metadata": {
      "needs_background": "light"
     },
     "output_type": "display_data"
    }
   ],
   "source": [
    "plt.bar(average_network_connectivity, average_path_length_HG3, width=0.01963,align='edge', tick_label=[0.248, 0.343, 0.419, 0.476, 0.514, 0.533], label=\"version 3\")\n",
    "plt.bar(average_network_connectivity_2, average_path_length_DG, width=0.01963,align='edge', tick_label=[0.248, 0.343, 0.419, 0.476, 0.514, 0.533], label=\"Dijkstra\")\n",
    "plt.xlabel(\"Network Connectivity\")\n",
    "plt.ylabel(\"Number of hops\")\n",
    "plt.legend()\n",
    "\n",
    "plt.show()\n",
    "\n",
    "#Note Version 3 has been Called Human Gaze Algoithm for poster "
   ]
  },
  {
   "cell_type": "code",
   "execution_count": 313,
   "id": "a44cc577",
   "metadata": {},
   "outputs": [
    {
     "data": {
      "image/png": "[encoded data removed]",
      "text/plain": [
       "<Figure size 432x288 with 1 Axes>"
      ]
     },
     "metadata": {
      "needs_background": "light"
     },
     "output_type": "display_data"
    }
   ],
   "source": [
    "plt.bar(average_network_connectivity, average_path_length_HG1, width=0.005,align='edge', tick_label=[0.248, 0.343, 0.419, 0.476, 0.514, 0.533], label=\"Version 1\")\n",
    "plt.bar(average_network_connectivity_2, average_path_length_HG2, width=0.005,align='edge', tick_label=[0.248, 0.343, 0.419, 0.476, 0.514, 0.533], label=\"Version 2\")\n",
    "plt.bar(average_network_connectivity_3, average_path_length_HG3, width=0.005,align='edge', tick_label=[0.248, 0.343, 0.419, 0.476, 0.514, 0.533], label=\"Version 3\")\n",
    "plt.bar(average_network_connectivity_4, average_path_length_DG, width=0.005,align='edge', tick_label=[0.248, 0.343, 0.419, 0.476, 0.514, 0.533], label=\"Dijkstra\")\n",
    "plt.xlabel(\"Network Connectivity\")\n",
    "plt.ylabel(\"Number of hops\")\n",
    "plt.legend()\n",
    "\n",
    "plt.show()"
   ]
  },
  {
   "cell_type": "code",
   "execution_count": 314,
   "id": "b06e5e7c",
   "metadata": {},
   "outputs": [],
   "source": [
    "def compare_runtime_2(path1, path2): # comparind individual paths\n",
    "    start_time_1 = time.time()\n",
    "    path1\n",
    "    end_time_1 = time.time()\n",
    "    \n",
    "    start_time_2 = time.time()\n",
    "    path2\n",
    "    end_time_2 = time.time()\n",
    "    return (end_time_1-start_time_1,end_time_2-start_time_2)"
   ]
  },
  {
   "cell_type": "code",
   "execution_count": 316,
   "id": "81ebed89",
   "metadata": {},
   "outputs": [
    {
     "data": {
      "text/plain": [
       "(0.0, 0.0)"
      ]
     },
     "execution_count": 316,
     "metadata": {},
     "output_type": "execute_result"
    }
   ],
   "source": [
    "compare_runtime_2(nx.dijkstra_path(G_list[3], 0, 6), Human_gaze_algorithm(G_list[3], 0, 6, pos_G_list[6]))"
   ]
  },
  {
   "cell_type": "code",
   "execution_count": 317,
   "id": "8b986a3d",
   "metadata": {},
   "outputs": [
    {
     "data": {
      "text/plain": [
       "(0.0, 0.0)"
      ]
     },
     "execution_count": 317,
     "metadata": {},
     "output_type": "execute_result"
    }
   ],
   "source": [
    "compare_runtime_2(nx.dijkstra_path(G_list[3], 0, 6), Human_gaze_algorithm_2(G_list[3], 0, 6, pos_G_list[6]))"
   ]
  },
  {
   "cell_type": "code",
   "execution_count": 318,
   "id": "a0bf5e48",
   "metadata": {},
   "outputs": [
    {
     "data": {
      "text/plain": [
       "(0.0, 1.1920928955078125e-06)"
      ]
     },
     "execution_count": 318,
     "metadata": {},
     "output_type": "execute_result"
    }
   ],
   "source": [
    "compare_runtime_2(nx.dijkstra_path(G_list[3], 0, 6), Human_gaze_algorithm_3(G_list[3], 0, 6, pos_G_list[6]))"
   ]
  },
  {
   "cell_type": "code",
   "execution_count": 319,
   "id": "74b92ee1",
   "metadata": {},
   "outputs": [
    {
     "data": {
      "text/plain": [
       "(9.5367431640625e-07, 9.5367431640625e-07)"
      ]
     },
     "execution_count": 319,
     "metadata": {},
     "output_type": "execute_result"
    }
   ],
   "source": [
    "compare_runtime_2(nx.dijkstra_path(G_list[15], 0, 6), Human_gaze_algorithm(G_list[25], 0, 6, pos_G_list[6]))"
   ]
  },
  {
   "cell_type": "code",
   "execution_count": 320,
   "id": "3e1bf966",
   "metadata": {},
   "outputs": [
    {
     "data": {
      "text/plain": [
       "(9.5367431640625e-07, 0.0)"
      ]
     },
     "execution_count": 320,
     "metadata": {},
     "output_type": "execute_result"
    }
   ],
   "source": [
    "compare_runtime_2(nx.dijkstra_path(G_list[15], 0, 6), Human_gaze_algorithm_2(G_list[25], 0, 6, pos_G_list[6]))"
   ]
  },
  {
   "cell_type": "code",
   "execution_count": 321,
   "id": "1919bcda",
   "metadata": {},
   "outputs": [
    {
     "data": {
      "text/plain": [
       "(9.5367431640625e-07, 0.0)"
      ]
     },
     "execution_count": 321,
     "metadata": {},
     "output_type": "execute_result"
    }
   ],
   "source": [
    "compare_runtime_2(nx.dijkstra_path(G_list[15], 0, 6), Human_gaze_algorithm_3(G_list[25], 0, 6, pos_G_list[6]))"
   ]
  },
  {
   "cell_type": "code",
   "execution_count": null,
   "id": "582382b1",
   "metadata": {},
   "outputs": [],
   "source": []
  }
 ],
 "metadata": {
  "kernelspec": {
   "display_name": "Python 3",
   "language": "python",
   "name": "python3"
  },
  "language_info": {
   "codemirror_mode": {
    "name": "ipython",
    "version": 3
   },
   "file_extension": ".py",
   "mimetype": "text/x-python",
   "name": "python",
   "nbconvert_exporter": "python",
   "pygments_lexer": "ipython3",
   "version": "3.8.8"
  }
 },
 "nbformat": 4,
 "nbformat_minor": 5
}
